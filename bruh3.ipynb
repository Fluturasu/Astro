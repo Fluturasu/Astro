{
  "cells": [
    {
      "cell_type": "code",
      "execution_count": 1,
      "metadata": {
        "id": "3lql9Zt95dnp"
      },
      "outputs": [],
      "source": [
        "import numpy as np\n",
        "import cv2\n",
        "from numpy import load\n",
        "import os\n",
        "from sklearn.model_selection import train_test_split"
      ]
    },
    {
      "cell_type": "code",
      "execution_count": null,
      "metadata": {
        "id": "Sc4Y54oGAzOM"
      },
      "outputs": [],
      "source": [
        "!unzip /content/drive/MyDrive/data.zip"
      ]
    },
    {
      "cell_type": "code",
      "execution_count": 6,
      "metadata": {
        "id": "ynAkwB4C5dnt"
      },
      "outputs": [],
      "source": [
        "\n",
        "images = []\n",
        "non_reshaped_images = []\n",
        "labels = []\n",
        "\n",
        "# example = load('data/img1.npz')\n",
        "# lst = example.files\n",
        "# for item in lst:\n",
        "#     print(item)\n",
        "#     print(example[item])\n",
        "\n",
        "def reshape_image(image):\n",
        "    rows, cols, subpixels = image.shape\n",
        "    return image.reshape((rows*cols*subpixels,))\n",
        "\n",
        "for file in os.listdir(\"data/\"):\n",
        "    elem = np.load(\"data/\"+file)\n",
        "    image= cv2.resize(elem[\"buffer\"], dsize=(512, 512))\n",
        "    label = elem[\"label\"]\n",
        "\n",
        "    label = str(label)\n",
        "    labelSlice = label[0:len(label) - 2]\n",
        "    labelNumber = int(labelSlice)\n",
        "\n",
        "    if label[len(label) - 1] == 'N':\n",
        "        non_reshaped_images.append(image)\n",
        "        images.append(reshape_image(image))\n",
        "        labels.append(labelNumber)\n",
        "        # print(labelNumber)\n",
        "        # print(image)\n",
        "\n",
        "X_train, X_test, y_train, y_test = train_test_split(images, labels, test_size = 0.2, random_state = 42)\n",
        "\n"
      ]
    },
    {
      "cell_type": "code",
      "execution_count": null,
      "metadata": {
        "colab": {
          "base_uri": "https://localhost:8080/"
        },
        "id": "luytzMCd5dnu",
        "outputId": "0f6457b5-3280-4232-f57c-27e6cb0d2986"
      },
      "outputs": [],
      "source": [
        "print(len(non_reshaped_images))\n",
        "print(len(images))\n",
        "print(len(y_test))"
      ]
    },
    {
      "cell_type": "code",
      "execution_count": 8,
      "metadata": {
        "id": "3jSbUfBn5dnv"
      },
      "outputs": [],
      "source": [
        "from sklearn.ensemble import RandomForestClassifier, RandomForestRegressor\n",
        "from sklearn import metrics"
      ]
    },
    {
      "cell_type": "code",
      "execution_count": null,
      "metadata": {
        "colab": {
          "base_uri": "https://localhost:8080/"
        },
        "id": "vk6uIdSe5dnv",
        "outputId": "96f094f8-136b-45d2-ca9e-6e6c2d2035b6"
      },
      "outputs": [],
      "source": [
        "model = RandomForestClassifier(n_estimators=20, random_state=30, max_depth = 200)\n",
        "\n",
        "\n",
        "#print(X_train)\n",
        "model.fit(X_train, y_train)\n",
        "prediction_test = model.predict(X_test)\n",
        "\n",
        "\n",
        "print(\"Accuracy = \", metrics.accuracy_score(y_test, prediction_test))"
      ]
    },
    {
      "cell_type": "code",
      "execution_count": null,
      "metadata": {},
      "outputs": [],
      "source": [
        "from sklearn.neural_network import MLPClassifier"
      ]
    },
    {
      "cell_type": "code",
      "execution_count": null,
      "metadata": {},
      "outputs": [],
      "source": [
        "model2 = MLPClassifier(hidden_layer_sizes = (100, 100), solver=\"lbfgs\", max_iter=100, random_state = 42)\n",
        "\n",
        "model2.fit(X_train, y_train)\n",
        "prediction_test = model2.predict(X_test)\n",
        "\n",
        "\n",
        "print(\"Accuracy = \", metrics.accuracy_score(y_test, prediction_test))"
      ]
    },
    {
      "cell_type": "code",
      "execution_count": null,
      "metadata": {
        "colab": {
          "base_uri": "https://localhost:8080/"
        },
        "id": "Xb9jVxNr7gmJ",
        "outputId": "97da9299-8cb2-4feb-940e-feccf8d17fc1"
      },
      "outputs": [],
      "source": [
        "from sklearn.metrics import accuracy_score, confusion_matrix, classification_report\n",
        "from sklearn.metrics import ConfusionMatrixDisplay\n",
        "import matplotlib.pyplot as plt\n",
        "import seaborn as sns\n",
        "\n",
        "print(classification_report(y_test, prediction_test))"
      ]
    },
    {
      "cell_type": "code",
      "execution_count": null,
      "metadata": {
        "colab": {
          "base_uri": "https://localhost:8080/",
          "height": 829
        },
        "id": "Lw1_SWW4EdaB",
        "outputId": "a105fb9d-200e-4e6e-dd77-6426217352fd"
      },
      "outputs": [],
      "source": [
        "%matplotlib inline\n",
        "\n",
        "ConfusionMatrixDisplay.from_predictions(y_test, prediction_test)\n",
        "plt.show()\n",
        "\n",
        "print(\"\\n\\n\")\n",
        "\n",
        "\n",
        "# Get and reshape confusion matrix data\n",
        "matrix = confusion_matrix(y_test, prediction_test)\n",
        "matrix = matrix.astype('float') / matrix.sum(axis=1)[:, np.newaxis]\n",
        "\n",
        "# Build the plot\n",
        "plt.figure(figsize=(16,7))\n",
        "sns.set(font_scale=1.4)\n",
        "sns.heatmap(matrix, annot=True, annot_kws={'size':10},\n",
        "            cmap=plt.cm.Greens, linewidths=0.2)\n",
        "\n",
        "# Add labels to the plot\n",
        "class_names = ['3200', '4400', '5500']\n",
        "tick_marks = np.arange(len(class_names))\n",
        "tick_marks2 = tick_marks + 0.5\n",
        "plt.xticks(tick_marks, class_names, rotation=25)\n",
        "plt.yticks(tick_marks2, class_names, rotation=0)\n",
        "plt.xlabel('Predicted label')\n",
        "plt.ylabel('True label')\n",
        "plt.title('Confusion Matrix')\n",
        "plt.show()"
      ]
    }
  ],
  "metadata": {
    "colab": {
      "name": "bruh2.ipynb",
      "provenance": []
    },
    "interpreter": {
      "hash": "a3a62e859a731842bbab0d62a3f9135c85d4609d37c0c8731d8490009dacb8f9"
    },
    "kernelspec": {
      "display_name": "Python 3.9.4 ('pytorch_env')",
      "language": "python",
      "name": "python3"
    },
    "language_info": {
      "codemirror_mode": {
        "name": "ipython",
        "version": 3
      },
      "file_extension": ".py",
      "mimetype": "text/x-python",
      "name": "python",
      "nbconvert_exporter": "python",
      "pygments_lexer": "ipython3",
      "version": "3.8.0"
    },
    "orig_nbformat": 4
  },
  "nbformat": 4,
  "nbformat_minor": 0
}
